{
 "cells": [
  {
   "cell_type": "code",
   "execution_count": null,
   "metadata": {},
   "outputs": [],
   "source": [
    "import warnings\n",
    "\n",
    "from endstate_rew.analysis import collect_results, plot_resutls_of_switching_experiments\n",
    "from endstate_rew.constant import zinc_systems\n",
    "from endstate_rew.vis import visualize_mol\n",
    "warnings.simplefilter(\"ignore\")\n",
    "###############\n",
    "###############\n",
    "name = '2cle'\n",
    "smiles = 'ClCCOCCCl'\n",
    "###############\n",
    "import torch\n",
    "num_threads = 2\n",
    "torch.set_num_threads(num_threads)\n"
   ]
  },
  {
   "cell_type": "code",
   "execution_count": null,
   "metadata": {},
   "outputs": [],
   "source": [
    "name, smiles = zinc_systems[0]\n",
    "print(name)\n",
    "pickle_file = '/data/shared/projects/endstate_rew/ZINC61095/sampling/run01/ZINC61095_mm_samples_5000_2000.pickle'\n",
    "visualize_mol(smiles, pickle_file)"
   ]
  },
  {
   "cell_type": "code",
   "execution_count": null,
   "metadata": {},
   "outputs": [],
   "source": [
    "for name, smiles in zinc_systems:\n",
    "    print(name)\n",
    "    for switching_length in [5_001]:#, 10_001]:#, 20_001]:\n",
    "        print(switching_length)\n",
    "        try:\n",
    "            r = collect_results(w_dir='/data/shared/projects/endstate_rew', switching_length=switching_length, run_id='run01', name=name, smiles=smiles)\n",
    "            plot_resutls_of_switching_experiments(name, r)\n",
    "        except:\n",
    "            pass"
   ]
  }
 ],
 "metadata": {
  "interpreter": {
   "hash": "5d5fbc55c5c98744c7db55e25ae0020e14cbbbc3e9aa28d464c2729b7821e478"
  },
  "kernelspec": {
   "display_name": "Python 3.9.12 ('reweighting')",
   "language": "python",
   "name": "python3"
  },
  "language_info": {
   "codemirror_mode": {
    "name": "ipython",
    "version": 3
   },
   "file_extension": ".py",
   "mimetype": "text/x-python",
   "name": "python",
   "nbconvert_exporter": "python",
   "pygments_lexer": "ipython3",
   "version": "3.9.12"
  },
  "orig_nbformat": 4
 },
 "nbformat": 4,
 "nbformat_minor": 2
}
