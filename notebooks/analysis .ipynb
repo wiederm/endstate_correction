{
 "cells": [
  {
   "cell_type": "code",
   "execution_count": null,
   "metadata": {},
   "outputs": [],
   "source": [
    "import warnings\n",
    "\n",
    "from endstate_rew.analysis import collect_results, plot_resutls_of_switching_experiments\n",
    "warnings.simplefilter(\"ignore\")\n",
    "###############\n",
    "###############\n",
    "name = 'acetylacetone'\n",
    "smiles = 'CC(C(C)=O)C(C)=O'\n",
    "switching_length = 5_001\n",
    "###############\n"
   ]
  },
  {
   "cell_type": "code",
   "execution_count": null,
   "metadata": {},
   "outputs": [],
   "source": [
    "r = collect_results(name, smiles)"
   ]
  },
  {
   "cell_type": "code",
   "execution_count": null,
   "metadata": {},
   "outputs": [],
   "source": [
    "plot_resutls_of_switching_experiments(name, r)"
   ]
  }
 ],
 "metadata": {
  "interpreter": {
   "hash": "5d5fbc55c5c98744c7db55e25ae0020e14cbbbc3e9aa28d464c2729b7821e478"
  },
  "kernelspec": {
   "display_name": "Python 3.9.12 ('reweighting')",
   "language": "python",
   "name": "python3"
  },
  "language_info": {
   "codemirror_mode": {
    "name": "ipython",
    "version": 3
   },
   "file_extension": ".py",
   "mimetype": "text/x-python",
   "name": "python",
   "nbconvert_exporter": "python",
   "pygments_lexer": "ipython3",
   "version": "3.9.12"
  },
  "orig_nbformat": 4
 },
 "nbformat": 4,
 "nbformat_minor": 2
}
