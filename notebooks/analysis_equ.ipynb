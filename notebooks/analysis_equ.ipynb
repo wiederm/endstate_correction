{
 "cells": [
  {
   "cell_type": "code",
   "execution_count": null,
   "metadata": {},
   "outputs": [],
   "source": [
    "from endstate_rew.analysis import calculate_u_kn\n",
    "import torch\n",
    "import numpy as np\n",
    "from pymbar import MBAR\n",
    "import matplotlib.pyplot as plt\n",
    "import seaborn as sns\n",
    "### set number of CPU threads used by pytorch\n",
    "num_threads = 4\n",
    "torch.set_num_threads(num_threads)\n",
    "\n",
    "smiles = \"S=c1cc(-c2ccc(Cl)cc2)ss1\"\n",
    "path = \"/data/shared/projects/endstate_rew/ZINC00079729/sampling_openff/run01/\"\n",
    "name = \"ZINC00079729\"\n",
    "\n",
    "# calculate N_k (for each state k the number of samples N)\n",
    "# and u_kn (for each for each state k evaluate each sample n with each potential energy function u)\n",
    "N_k, u_kn = calculate_u_kn(\n",
    "    smiles=smiles,\n",
    "    forcefield=\"openff\",\n",
    "    path=path,\n",
    "    name=name,\n",
    "    every_nth_frame=10,\n",
    "    reload=True,\n",
    ")"
   ]
  },
  {
   "cell_type": "code",
   "execution_count": null,
   "metadata": {},
   "outputs": [],
   "source": [
    "from endstate_rew.analysis import plot_overlap_for_equilibrium_free_energy, plot_results_for_equilibrium_free_energy"
   ]
  },
  {
   "cell_type": "code",
   "execution_count": null,
   "metadata": {},
   "outputs": [],
   "source": [
    "plot_overlap_for_equilibrium_free_energy(N_k=N_k, u_kn=u_kn, name=name)"
   ]
  },
  {
   "cell_type": "code",
   "execution_count": null,
   "metadata": {},
   "outputs": [],
   "source": [
    "plot_results_for_equilibrium_free_energy(N_k=N_k, u_kn=u_kn, name=name)"
   ]
  }
 ],
 "metadata": {
  "interpreter": {
   "hash": "67e4ec1ae0fe653e62c8a48bf5a0259c7f1c8afef9db507c4fd5416dc10d9b46"
  },
  "kernelspec": {
   "display_name": "Python 3.9.12 ('rew-test')",
   "language": "python",
   "name": "python3"
  },
  "language_info": {
   "codemirror_mode": {
    "name": "ipython",
    "version": 3
   },
   "file_extension": ".py",
   "mimetype": "text/x-python",
   "name": "python",
   "nbconvert_exporter": "python",
   "pygments_lexer": "ipython3",
   "version": "3.9.12"
  },
  "orig_nbformat": 4
 },
 "nbformat": 4,
 "nbformat_minor": 2
}
