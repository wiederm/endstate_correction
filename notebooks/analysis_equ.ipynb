{
 "cells": [
  {
   "cell_type": "code",
   "execution_count": null,
   "metadata": {},
   "outputs": [],
   "source": [
    "from endstate_rew.analysis import calculate_u_kn\n",
    "from endstate_rew.constant import zinc_systems\n",
    "import torch\n",
    "from endstate_rew.analysis import plot_overlap_for_equilibrium_free_energy, plot_results_for_equilibrium_free_energy\n",
    "\n",
    "### set number of CPU threads used by pytorch\n",
    "num_threads = 4\n",
    "torch.set_num_threads(num_threads)\n",
    "ff = 'charmmff'\n",
    "\n",
    "#name = \"ZINC00077329\"\n",
    "#smiles = \"Cn1cc(Cl)c(/C=N/O)n1\"\n",
    "\n",
    "run = 'run01'\n",
    "for idx, (name, smiles) in enumerate(zinc_systems[6:]):\n",
    "    print(idx)\n",
    "    print(f'{smiles=}')\n",
    "    print(f'{name=}')\n",
    "    path = f\"/data/shared/projects/endstate_rew/{name}/sampling_{ff}/{run}/\"\n",
    "\n",
    "    # calculate N_k (for each state k the number of samples N)\n",
    "    # and u_kn (for each for each state k evaluate each sample n with each potential energy function u)\n",
    "    try:\n",
    "        N_k, u_kn = calculate_u_kn(\n",
    "        smiles=smiles,\n",
    "        forcefield=ff,\n",
    "        path_to_files=path,\n",
    "        name=name,\n",
    "        every_nth_frame=10,\n",
    "        reload=False,\n",
    "        override=True,\n",
    "        )\n",
    "    except OSError as e:\n",
    "        print(e)"
   ]
  },
  {
   "cell_type": "code",
   "execution_count": null,
   "metadata": {},
   "outputs": [],
   "source": [
    "plot_overlap_for_equilibrium_free_energy(N_k=N_k, u_kn=u_kn, name=name)"
   ]
  },
  {
   "cell_type": "code",
   "execution_count": null,
   "metadata": {},
   "outputs": [],
   "source": [
    "plot_results_for_equilibrium_free_energy(N_k=N_k, u_kn=u_kn, name=name)"
   ]
  }
 ],
 "metadata": {
  "interpreter": {
   "hash": "67e4ec1ae0fe653e62c8a48bf5a0259c7f1c8afef9db507c4fd5416dc10d9b46"
  },
  "kernelspec": {
   "display_name": "Python 3.9.12 ('rew-test')",
   "language": "python",
   "name": "python3"
  },
  "language_info": {
   "codemirror_mode": {
    "name": "ipython",
    "version": 3
   },
   "file_extension": ".py",
   "mimetype": "text/x-python",
   "name": "python",
   "nbconvert_exporter": "python",
   "pygments_lexer": "ipython3",
   "version": "3.9.13"
  },
  "orig_nbformat": 4
 },
 "nbformat": 4,
 "nbformat_minor": 2
}
