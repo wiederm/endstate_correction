{
 "cells": [
  {
   "cell_type": "code",
   "execution_count": null,
   "metadata": {},
   "outputs": [],
   "source": [
    "import glob\n",
    "import pickle\n",
    "import warnings\n",
    "\n",
    "import matplotlib.pyplot as plt\n",
    "import numpy as np\n",
    "import seaborn as sns\n",
    "from endstate_rew.constant import kBT\n",
    "from endstate_rew.neq import perform_switching, perform_inst_switching\n",
    "from endstate_rew.system import generate_molecule, initialize_simulation\n",
    "from openmm import unit\n",
    "from pymbar import BAR, EXP\n",
    "\n",
    "warnings.simplefilter(\"ignore\")\n",
    "###############\n",
    "###############\n",
    "name = 'acetylacetone'\n",
    "smiles = 'CC(C(C)=O)C(C)=O'\n",
    "switching_length = 5_001\n",
    "###############\n",
    "w_dir = f'{name}_neq_switching'\n"
   ]
  },
  {
   "cell_type": "code",
   "execution_count": null,
   "metadata": {},
   "outputs": [],
   "source": [
    "def _get_samples(direction:str = 'mm_to_qml'):\n",
    "    files = glob.glob(f\"../data/{w_dir}/{name}_*_{direction}_{name}_*_{switching_length}*.pickle\")\n",
    "    ws = []\n",
    "    for f in files:\n",
    "        w_ = pickle.load(open(f, 'rb')).value_in_unit(unit.kilojoule_per_mole)\n",
    "        ws.extend(w_)\n",
    "    number_of_samples = len(ws)\n",
    "    print(f\"Number of samples used: {number_of_samples}\")\n",
    "    return ws * unit.kilojoule_per_mole"
   ]
  },
  {
   "cell_type": "code",
   "execution_count": null,
   "metadata": {},
   "outputs": [],
   "source": [
    "ws_from_mm_to_qml = np.array(_get_samples('mm_to_qml')/ kBT)\n",
    "ws_from_qml_to_mm = np.array(_get_samples('qml_to_mm')/ kBT)"
   ]
  },
  {
   "cell_type": "code",
   "execution_count": null,
   "metadata": {},
   "outputs": [],
   "source": [
    "print(f\"Crooks' equation: {BAR(ws_from_mm_to_qml, ws_from_qml_to_mm)}\")\n",
    "print(f\"Jarzynski's equation: {EXP(ws_from_mm_to_qml)}\")"
   ]
  },
  {
   "cell_type": "code",
   "execution_count": null,
   "metadata": {},
   "outputs": [],
   "source": [
    "# instantenious swichting (FEP)\n",
    "mm_samples = pickle.load(open(f'../data/{name}_mm_samples_2000_1000.pickle', 'rb'))\n",
    "qml_samples = pickle.load(open(f'../data/{name}_qml_samples_2000_1000.pickle', 'rb'))\n",
    "\n",
    "switching_length = 2\n",
    "nr_of_switches = 500\n",
    "# create molecule\n",
    "molecule = generate_molecule(smiles)\n",
    "sim = initialize_simulation(molecule)\n",
    "lambs = np.linspace(0,1,switching_length)\n",
    "dEs_from_mm_to_qml = perform_inst_switching(sim, lambs, samples=mm_samples,nr_of_switches=nr_of_switches)\n",
    "lambs = np.linspace(1,0,switching_length)\n",
    "dEs_from_qml_to_mm = perform_inst_switching(sim,lambs, samples=qml_samples,nr_of_switches=nr_of_switches)\n",
    "print()\n",
    "print(f\"Number of samples used: {len(dEs_from_mm_to_qml)}\")\n",
    "print(f\"Number of samples used: {len(dEs_from_mm_to_qml)}\")\n",
    "\n",
    "# to kT\n",
    "dEs_from_mm_to_qml = np.array(dEs_from_mm_to_qml/ kBT)\n",
    "dEs_from_qml_to_mm = np.array(dEs_from_qml_to_mm/ kBT)\n",
    "print(f'FEP: From MM to QML: {EXP(dEs_from_mm_to_qml)}')\n",
    "print(f'FEP: From QML to MM: {EXP(dEs_from_qml_to_mm)}')\n",
    "print(f\"BAR: {BAR(dEs_from_mm_to_qml, dEs_from_qml_to_mm)}\")"
   ]
  },
  {
   "cell_type": "code",
   "execution_count": null,
   "metadata": {},
   "outputs": [],
   "source": [
    "sns.set_context(\"talk\")\n",
    "fig, axs = plt.subplots(1,2, figsize=(10.0, 5.5), dpi=600)\n",
    "palett = sns.color_palette(n_colors=8)\n",
    "palett_as_hex = palett.as_hex()\n",
    "c1, c2 = palett_as_hex[0], palett_as_hex[1]\n",
    "\n",
    "sns.histplot(ax=axs[0], data=ws_from_mm_to_qml, kde=True, stat='density', label=r'dW', color=c1)\n",
    "sns.histplot(ax=axs[0], data=dEs_from_mm_to_qml, kde=True, stat='density', label=r'dE', color=c2)\n",
    "sns.histplot(ax=axs[1], data=ws_from_qml_to_mm, kde=True, stat='density', label=r'dW', color=c1)\n",
    "sns.histplot(ax=axs[1], data=dEs_from_qml_to_mm, kde=True, stat='density', label=r'dE', color=c2)\n",
    "axs[0].set_title(r'MM$\\rightarrow$QML')\n",
    "axs[1].set_title(r'QML$\\rightarrow$MM')\n",
    "axs[0].legend()\n",
    "axs[1].legend()\n",
    "\n",
    "plt.show()"
   ]
  },
  {
   "cell_type": "code",
   "execution_count": null,
   "metadata": {},
   "outputs": [],
   "source": [
    "sns.histplot()"
   ]
  }
 ],
 "metadata": {
  "interpreter": {
   "hash": "5d5fbc55c5c98744c7db55e25ae0020e14cbbbc3e9aa28d464c2729b7821e478"
  },
  "kernelspec": {
   "display_name": "Python 3.9.12 ('reweighting')",
   "language": "python",
   "name": "python3"
  },
  "language_info": {
   "codemirror_mode": {
    "name": "ipython",
    "version": 3
   },
   "file_extension": ".py",
   "mimetype": "text/x-python",
   "name": "python",
   "nbconvert_exporter": "python",
   "pygments_lexer": "ipython3",
   "version": "3.9.12"
  },
  "orig_nbformat": 4
 },
 "nbformat": 4,
 "nbformat_minor": 2
}
