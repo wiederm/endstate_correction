{
 "cells": [
  {
   "cell_type": "code",
   "execution_count": 7,
   "metadata": {},
   "outputs": [],
   "source": [
    "import warnings\n",
    "\n",
    "from endstate_rew.analysis import collect_results_from_neq_and_equ_free_energy_calculations, plot_resutls_of_switching_experiments\n",
    "from endstate_rew.constant import zinc_systems\n",
    "warnings.simplefilter(\"ignore\")\n",
    "###############\n",
    "###############\n",
    "import torch\n",
    "num_threads = 2\n",
    "torch.set_num_threads(num_threads)\n"
   ]
  },
  {
   "cell_type": "markdown",
   "metadata": {},
   "source": [
    "### plot results for one system"
   ]
  },
  {
   "cell_type": "code",
   "execution_count": 13,
   "metadata": {},
   "outputs": [],
   "source": [
    "name, smiles = zinc_systems[21]\n",
    "path = f\"/data/shared/projects/endstate_rew/{name}\""
   ]
  },
  {
   "cell_type": "code",
   "execution_count": null,
   "metadata": {},
   "outputs": [],
   "source": [
    "r = collect_results_from_neq_and_equ_free_energy_calculations(\n",
    "    w_dir=path,\n",
    "    forcefield=\"charmmff\",\n",
    "    run_id=1,\n",
    "    smiles=smiles,\n",
    "    name=name,\n",
    "    switching_length=20001\n",
    ")"
   ]
  },
  {
   "cell_type": "code",
   "execution_count": null,
   "metadata": {},
   "outputs": [],
   "source": [
    "plot_resutls_of_switching_experiments(name, r)\n"
   ]
  },
  {
   "cell_type": "markdown",
   "metadata": {},
   "source": [
    "### plot results for all systems"
   ]
  },
  {
   "cell_type": "code",
   "execution_count": 8,
   "metadata": {},
   "outputs": [],
   "source": [
    "def plot_systems(zinc_id:int):\n",
    "    \n",
    "    name, smiles = zinc_systems[zinc_id]\n",
    "    path = f\"/data/shared/projects/endstate_rew/{name}\" \n",
    "    \n",
    "    r = collect_results_from_neq_and_equ_free_energy_calculations(\n",
    "    w_dir=path,\n",
    "    forcefield=\"charmmff\",\n",
    "    run_id=1,\n",
    "    smiles=smiles,\n",
    "    name=name,\n",
    "    switching_length=20001\n",
    "    )\n",
    "    \n",
    "    plot_resutls_of_switching_experiments(name, r)"
   ]
  },
  {
   "cell_type": "code",
   "execution_count": null,
   "metadata": {},
   "outputs": [],
   "source": [
    "for sys in [x for x in range(2,22) if x != 5 and x != 10]:\n",
    "    plot_systems(sys)"
   ]
  }
 ],
 "metadata": {
  "kernelspec": {
   "display_name": "Python 3.9.12 ('rew')",
   "language": "python",
   "name": "python3"
  },
  "language_info": {
   "codemirror_mode": {
    "name": "ipython",
    "version": 3
   },
   "file_extension": ".py",
   "mimetype": "text/x-python",
   "name": "python",
   "nbconvert_exporter": "python",
   "pygments_lexer": "ipython3",
   "version": "3.9.12"
  },
  "orig_nbformat": 4,
  "vscode": {
   "interpreter": {
    "hash": "d48ecb413036d6f76cd6f2aff0748bc6a26a2fa28743f6e1d99089033cf8f9d5"
   }
  }
 },
 "nbformat": 4,
 "nbformat_minor": 2
}
