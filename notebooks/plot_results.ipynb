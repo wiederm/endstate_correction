{
 "cells": [
  {
   "cell_type": "code",
   "execution_count": null,
   "metadata": {},
   "outputs": [],
   "source": [
    "import warnings\n",
    "\n",
    "from endstate_rew.analysis import collect_results_from_neq_and_equ_free_energy_calculations, plot_resutls_of_switching_experiments\n",
    "from endstate_rew.constant import zinc_systems\n",
    "warnings.simplefilter(\"ignore\")\n",
    "###############\n",
    "###############\n",
    "import torch\n",
    "num_threads = 2\n",
    "torch.set_num_threads(num_threads)\n"
   ]
  },
  {
   "cell_type": "code",
   "execution_count": null,
   "metadata": {},
   "outputs": [],
   "source": [
    "name, smiles = zinc_systems[6]\n",
    "path = f\"/data/shared/projects/endstate_rew/{name}\""
   ]
  },
  {
   "cell_type": "code",
   "execution_count": null,
   "metadata": {},
   "outputs": [],
   "source": [
    "r = collect_results_from_neq_and_equ_free_energy_calculations(\n",
    "    w_dir=path,\n",
    "    forcefield=\"charmmff\",\n",
    "    run_id=1,\n",
    "    smiles=smiles,\n",
    "    name=name,\n",
    ")"
   ]
  },
  {
   "cell_type": "code",
   "execution_count": null,
   "metadata": {},
   "outputs": [],
   "source": [
    "plot_resutls_of_switching_experiments(name, r)\n"
   ]
  }
 ],
 "metadata": {
  "interpreter": {
   "hash": "5d5fbc55c5c98744c7db55e25ae0020e14cbbbc3e9aa28d464c2729b7821e478"
  },
  "kernelspec": {
   "display_name": "Python 3.9.12 ('reweighting')",
   "language": "python",
   "name": "python3"
  },
  "language_info": {
   "codemirror_mode": {
    "name": "ipython",
    "version": 3
   },
   "file_extension": ".py",
   "mimetype": "text/x-python",
   "name": "python",
   "nbconvert_exporter": "python",
   "pygments_lexer": "ipython3",
   "version": "3.9.13"
  },
  "orig_nbformat": 4
 },
 "nbformat": 4,
 "nbformat_minor": 2
}
