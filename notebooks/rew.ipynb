{
 "cells": [
  {
   "cell_type": "code",
   "execution_count": null,
   "metadata": {},
   "outputs": [],
   "source": [
    "# general imports\n",
    "import pickle\n",
    "import random\n",
    "\n",
    "from endstate_rew.system import generate_molecule, initialize_simulation\n",
    "from endstate_rew.neq import perform_switching\n",
    "\n",
    "import matplotlib.pyplot as plt\n",
    "import numpy as np\n",
    "import seaborn as sns\n",
    "import torch\n",
    "# Imports from the openff toolkit\n",
    "\n",
    "from openmm import unit\n",
    "\n",
    "from pymbar import BAR, EXP\n",
    "from tqdm import tqdm\n",
    "\n",
    "num_threads = 4\n",
    "torch.set_num_threads(num_threads)\n",
    "\n",
    "# generate a molecule using openff\n",
    "###################\n",
    "###################\n",
    "name = 'acetylacetone'\n",
    "n_samples = 10#2_000\n",
    "n_steps_per_sample = 1_000\n",
    "smiles = 'CC(C(C)=O)C(C)=O'\n",
    "###################\n",
    "###################\n",
    "molecule = generate_molecule(smiles)\n",
    "sim = initialize_simulation(molecule)"
   ]
  },
  {
   "cell_type": "code",
   "execution_count": null,
   "metadata": {},
   "outputs": [],
   "source": [
    "mm_samples = collect_samples(sim, n_samples=n_samples, n_steps_per_sample=n_steps_per_sample, lamb=0.0)\n",
    "qml_samples = collect_samples(sim, n_samples=n_samples, n_steps_per_sample=n_steps_per_sample, lamb=1.0)\n",
    "#pickle.dump(mm_samples, open(f'../data/{name}_mm_samples_{n_samples}_{n_steps_per_sample}.pickle', 'wb+'))\n",
    "#pickle.dump(qml_samples, open(f'../data/{name}_qml_samples_{n_samples}_{n_steps_per_sample}.pickle', 'wb+'))\n"
   ]
  },
  {
   "cell_type": "code",
   "execution_count": null,
   "metadata": {},
   "outputs": [],
   "source": [
    "#mm_samples = pickle.load(open(f'../data/{name}_mm_samples.pickle', 'rb'))\n",
    "#qml_samples = pickle.load(open(f'../data/{name}_qml_samples.pickle', 'rb'))"
   ]
  },
  {
   "cell_type": "code",
   "execution_count": null,
   "metadata": {},
   "outputs": [],
   "source": [
    "# NEQ\n",
    "switching_length = 1_001\n",
    "nr_of_switches = 5\n",
    "\n",
    "lambs = np.linspace(0,1,switching_length)\n",
    "ws_from_mm_to_qml = perform_switching(sim, lambs, samples=mm_samples,nr_of_switches=nr_of_switches)\n",
    "#pickle.dump(ws_from_mm_to_qml, open(f'../data/neq_ws_from_mm_to_qml_{name}.pickle', 'wb+'))\n",
    "lambs = np.linspace(1,0,switching_length)\n",
    "ws_from_qml_to_mm = perform_switching(sim, lambs, samples=qml_samples,nr_of_switches=nr_of_switches)\n",
    "#pickle.dump(ws_from_mm_to_qml, open(f'../data/neq_ws_from_qml_to_mm_{name}.pickle', 'wb+'))"
   ]
  },
  {
   "cell_type": "code",
   "execution_count": null,
   "metadata": {},
   "outputs": [],
   "source": [
    "print(f\"Crooks' equation: {BAR(ws_from_mm_to_qml, ws_from_qml_to_mm)}\")\n",
    "print(f\"Jarzynski's equation: {EXP(ws_from_mm_to_qml)}\")"
   ]
  },
  {
   "cell_type": "code",
   "execution_count": null,
   "metadata": {},
   "outputs": [],
   "source": [
    "# instantenious swichting (FEP)\n",
    "switching_length = 2\n",
    "nr_of_switches = 500\n",
    "\n",
    "lambs = np.linspace(0,1,switching_length)\n",
    "ws_from_mm_to_qml = perform_switching(lambs, samples=mm_samples,nr_of_switches=nr_of_switches)\n",
    "lambs = np.linspace(1,0,switching_length)\n",
    "ws_from_qml_to_mm = perform_switching(lambs, samples=qml_samples,nr_of_switches=nr_of_switches)\n",
    "print(f'FEP: From MM to QML: {EXP(ws_from_mm_to_qml)}')\n",
    "print(f'FEP: From MM to QML: {EXP(ws_from_qml_to_mm)}')\n",
    "print(f\"BAR: {BAR(ws_from_mm_to_qml, ws_from_qml_to_mm)}\")"
   ]
  }
 ],
 "metadata": {
  "interpreter": {
   "hash": "5d5fbc55c5c98744c7db55e25ae0020e14cbbbc3e9aa28d464c2729b7821e478"
  },
  "kernelspec": {
   "display_name": "Python 3.9.12 ('reweighting')",
   "language": "python",
   "name": "python3"
  },
  "language_info": {
   "codemirror_mode": {
    "name": "ipython",
    "version": 3
   },
   "file_extension": ".py",
   "mimetype": "text/x-python",
   "name": "python",
   "nbconvert_exporter": "python",
   "pygments_lexer": "ipython3",
   "version": "3.9.12"
  },
  "orig_nbformat": 4
 },
 "nbformat": 4,
 "nbformat_minor": 2
}
