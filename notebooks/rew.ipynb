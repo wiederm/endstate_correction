{
 "cells": [
  {
   "cell_type": "code",
   "execution_count": 1,
   "metadata": {},
   "outputs": [
    {
     "name": "stderr",
     "output_type": "stream",
     "text": [
      "Warning: Unable to load toolkit 'OpenEye Toolkit'. The Open Force Field Toolkit does not require the OpenEye Toolkits, and can use RDKit/AmberTools instead. However, if you have a valid license for the OpenEye Toolkits, consider installing them for faster performance and additional file format support: https://docs.eyesopen.com/toolkits/python/quickstart-python/linuxosx.html OpenEye offers free Toolkit licenses for academics: https://www.eyesopen.com/academic-licensing\n"
     ]
    }
   ],
   "source": [
    "# general imports\n",
    "import pickle\n",
    "import random\n",
    "\n",
    "import matplotlib.pyplot as plt\n",
    "import numpy as np\n",
    "import seaborn as sns\n",
    "import torch\n",
    "# Imports from the openff toolkit\n",
    "from openff.toolkit.topology import Molecule\n",
    "from openff.toolkit.typing.engines.smirnoff import ForceField\n",
    "\n",
    "# import from openmm and ecosystem\n",
    "from openmmml import MLPotential\n",
    "import openmm as mm\n",
    "from openmm.app import Simulation\n",
    "from openmm import unit\n",
    "\n",
    "forcefield = ForceField('openff_unconstrained-2.0.0.offxml')\n",
    "\n",
    "from pymbar import BAR, EXP\n",
    "from tqdm import tqdm\n",
    "\n",
    "### define units\n",
    "distance_unit = unit.angstrom\n",
    "time_unit = unit.femtoseconds\n",
    "speed_unit = distance_unit / time_unit\n",
    "\n",
    "# constants\n",
    "stepsize = 1 * time_unit\n",
    "collision_rate = 1 / unit.picosecond\n",
    "temperature = 300 * unit.kelvin\n",
    "\n",
    "platform = 'cuda'\n",
    "num_threads = 4\n",
    "torch.set_num_threads(num_threads)\n",
    "\n",
    "# generate a molecule using openff\n",
    "###################\n",
    "name = 'acetylacetone'\n",
    "###################\n",
    "molecule = Molecule.from_smiles('CC(C(C)=O)C(C)=O', hydrogens_are_explicit=False)\n",
    "molecule.generate_conformers()"
   ]
  },
  {
   "cell_type": "code",
   "execution_count": null,
   "metadata": {},
   "outputs": [],
   "source": [
    "def get_positions(sim):\n",
    "    \"\"\"get position of system in a state\"\"\"\n",
    "    return sim.context.getState(getPositions=True).getPositions(asNumpy=True)\n",
    "\n",
    "def collect_samples(sim, n_samples=1_000, n_steps_per_sample=10_000, lamb:float=0.0):\n",
    "    \"\"\"generate samples using a classical FF\"\"\"\n",
    "    sim.context.setParameter('lambda', lamb)\n",
    "\n",
    "    print(f'Generate samples with mixed System: {lamb=}, {n_samples=}, {n_steps_per_sample=}')   \n",
    "    samples = []\n",
    "    for _ in tqdm(range(n_samples)):\n",
    "        sim.step(n_steps_per_sample)\n",
    "        samples.append(get_positions(sim))\n",
    "    return samples\n",
    "\n",
    "def create_mm_system(molecule):\n",
    "    \"\"\"given a molecule it creates an openMM system and topology instance\"\"\"\n",
    "    topology = molecule.to_topology()\n",
    "    system = forcefield.create_openmm_system(topology)\n",
    "    return system, topology\n"
   ]
  },
  {
   "cell_type": "code",
   "execution_count": null,
   "metadata": {},
   "outputs": [],
   "source": [
    "potential = MLPotential('ani2x')\n",
    "# generate a molecule using openff\n",
    "system, topology = create_mm_system(molecule)\n",
    "# define integrator\n",
    "integrator = mm.LangevinIntegrator(temperature, collision_rate, stepsize)\n",
    "# define the atoms that are calculated using both potentials\n",
    "ml_atoms = [atom.topology_atom_index for atom in topology.topology_atoms]\n",
    "ml_system = potential.createMixedSystem(topology.to_openmm(), system, ml_atoms, interpolate=True)    \n",
    "\n",
    "platform = mm.Platform.getPlatformByName('Reference')\n",
    "\n",
    "sim = Simulation(topology, ml_system, integrator, platform=platform)\n",
    "sim.context.setPositions(molecule.conformers[0])"
   ]
  },
  {
   "cell_type": "code",
   "execution_count": null,
   "metadata": {},
   "outputs": [],
   "source": [
    "#mm_samples = collect_samples(sim, n_samples=1000, n_steps_per_sample=5_000, lamb=0.0)\n",
    "#qml_samples = collect_samples(sim, n_samples=1000, n_steps_per_sample=5_000, lamb=1.0)\n",
    "#pickle.dump(mm_samples, open(f'{name}_mm_samples.pickle', 'wb+'))\n",
    "#pickle.dump(qml_samples, open('{name}_qml_samples.pickle', 'wb+'))"
   ]
  },
  {
   "cell_type": "code",
   "execution_count": null,
   "metadata": {},
   "outputs": [],
   "source": [
    "mm_samples = pickle.load(open(f'data_for_neq/{name}_mm_samples.pickle', 'rb'))\n",
    "qml_samples = pickle.load(open(f'data_for_neq/{name}_qml_samples.pickle', 'rb'))"
   ]
  },
  {
   "cell_type": "code",
   "execution_count": null,
   "metadata": {},
   "outputs": [],
   "source": [
    "def perform_switching(lambdas:list, samples:list, nr_of_switches:int=50)->list:\n",
    "    \"\"\"performs NEQ switching using the lambda sheme passed from randomly dranw samples\"\"\"\n",
    "    \n",
    "    # list  of work values\n",
    "    ws = []\n",
    "    # start with switch\n",
    "    for _ in tqdm(range(nr_of_switches)):\n",
    "        # select a random sample\n",
    "        x = np.array(random.choice(samples).value_in_unit(distance_unit)) * distance_unit\n",
    "        # initialize work\n",
    "        w = 0.0\n",
    "        # set position    \n",
    "        sim.context.setPositions(x)\n",
    "        \n",
    "        # perform NEQ switching\n",
    "        for idx_lamb in range(1,len(lambdas)):\n",
    "            # set lambda parameter\n",
    "            sim.context.setParameter('lambda', lambdas[idx_lamb])\n",
    "            # perform 1 simulation step\n",
    "            sim.step(1)\n",
    "            # calculate work\n",
    "            # evaluate u_t(x_t) - u_{t-1}(x_t)\n",
    "            # calculate u_t(x_t)\n",
    "            u_now = sim.context.getState(getEnergy=True).getPotentialEnergy()\n",
    "            # calculate u_{t-1}(x_t)\n",
    "            sim.context.setParameter('lambda', lambdas[idx_lamb-1])\n",
    "            u_before = sim.context.getState(getEnergy=True).getPotentialEnergy()\n",
    "            # add to accumulated work\n",
    "            w += (u_now - u_before).value_in_unit(unit.kilojoule_per_mole)\n",
    "\n",
    "        ws.append(w)\n",
    "    return np.array(ws) * unit.kilojoule_per_mole"
   ]
  },
  {
   "cell_type": "code",
   "execution_count": null,
   "metadata": {},
   "outputs": [],
   "source": [
    "# NEQ\n",
    "switching_length = 5_001\n",
    "nr_of_switches = 500\n",
    "\n",
    "lambs = np.linspace(0,1,switching_length)\n",
    "ws_from_mm_to_qml = perform_switching(lambs, samples=mm_samples,nr_of_switches=nr_of_switches)\n",
    "pickle.dump(ws_from_mm_to_qml, open(f'data_for_neq/neq_ws_from_mm_to_qml_{name}.pickle', 'wb+'))\n",
    "lambs = np.linspace(1,0,switching_length)\n",
    "ws_from_qml_to_mm = perform_switching(lambs, samples=qml_samples,nr_of_switches=nr_of_switches)\n",
    "pickle.dump(ws_from_mm_to_qml, open(f'data_for_neq/neq_ws_from_qml_to_mm_{name}.pickle', 'wb+'))"
   ]
  },
  {
   "cell_type": "code",
   "execution_count": null,
   "metadata": {},
   "outputs": [],
   "source": [
    "print(f\"Crooks' equation: {BAR(ws_from_mm_to_qml, ws_from_qml_to_mm)}\")\n",
    "print(f\"Jarzynski's equation: {EXP(ws_from_mm_to_qml)}\")"
   ]
  },
  {
   "cell_type": "code",
   "execution_count": null,
   "metadata": {},
   "outputs": [],
   "source": [
    "# instantenious swichting (FEP)\n",
    "switching_length = 2\n",
    "nr_of_switches = 500\n",
    "\n",
    "lambs = np.linspace(0,1,switching_length)\n",
    "ws_from_mm_to_qml = perform_switching(lambs, samples=mm_samples,nr_of_switches=nr_of_switches)\n",
    "lambs = np.linspace(1,0,switching_length)\n",
    "ws_from_qml_to_mm = perform_switching(lambs, samples=qml_samples,nr_of_switches=nr_of_switches)\n",
    "print(f'FEP: From MM to QML: {EXP(ws_from_mm_to_qml)}')\n",
    "print(f'FEP: From MM to QML: {EXP(ws_from_qml_to_mm)}')\n",
    "print(f\"BAR: {BAR(ws_from_mm_to_qml, ws_from_qml_to_mm)}\")"
   ]
  },
  {
   "cell_type": "code",
   "execution_count": null,
   "metadata": {},
   "outputs": [],
   "source": [
    "plt.hist(ws_from_mm_to_qml - np.average(ws_from_mm_to_qml))\n",
    "plt.hist(ws_from_qml_to_mm + np.average(ws_from_qml_to_mm))\n",
    "plt.show()\n"
   ]
  }
 ],
 "metadata": {
  "interpreter": {
   "hash": "5d5fbc55c5c98744c7db55e25ae0020e14cbbbc3e9aa28d464c2729b7821e478"
  },
  "kernelspec": {
   "display_name": "Python 3.9.12 ('reweighting')",
   "language": "python",
   "name": "python3"
  },
  "language_info": {
   "codemirror_mode": {
    "name": "ipython",
    "version": 3
   },
   "file_extension": ".py",
   "mimetype": "text/x-python",
   "name": "python",
   "nbconvert_exporter": "python",
   "pygments_lexer": "ipython3",
   "version": "3.9.12"
  },
  "orig_nbformat": 4
 },
 "nbformat": 4,
 "nbformat_minor": 2
}
